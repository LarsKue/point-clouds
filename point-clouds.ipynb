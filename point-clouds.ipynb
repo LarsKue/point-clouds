{
 "cells": [
  {
   "cell_type": "code",
   "execution_count": null,
   "id": "05a8245f-acc2-468c-a512-2a594341ef18",
   "metadata": {},
   "outputs": [],
   "source": [
    "# allows showing the tensorboard widget\n",
    "%load_ext tensorboard\n",
    "# reload imports on rerun\n",
    "%load_ext autoreload\n",
    "\n",
    "# set to 1 for cuda debugging\n",
    "%set_env CUDA_LAUNCH_BLOCKING=0"
   ]
  },
  {
   "cell_type": "code",
   "execution_count": null,
   "id": "91f737be-c8e0-4d3f-ab10-79591f06c102",
   "metadata": {},
   "outputs": [],
   "source": [
    "# show the tensorboard widget\n",
    "%tensorboard --logdir lightning_logs"
   ]
  },
  {
   "cell_type": "code",
   "execution_count": null,
   "id": "e7f95673-ba6f-405c-90a7-ef0b156a6141",
   "metadata": {
    "tags": []
   },
   "outputs": [],
   "source": [
    "# enable import reloads\n",
    "%autoreload 2\n",
    "\n",
    "import pytorch_lightning as lightning\n",
    "\n",
    "import torch\n",
    "from torch.utils.data import random_split\n",
    "from torchvision.datasets.utils import download_and_extract_archive\n",
    "\n",
    "import numpy as np\n",
    "import matplotlib.pyplot as plt\n",
    "\n",
    "import pathlib\n",
    "from data import MeshDataset, SingleTensorDataset\n",
    "from point_clouds import PointCloudsModule"
   ]
  },
  {
   "cell_type": "code",
   "execution_count": null,
   "id": "870819e1-c931-4927-aafd-2e94fc219395",
   "metadata": {},
   "outputs": [],
   "source": [
    "plt.rc(\"figure\", dpi=250)\n",
    "plt.rc(\"legend\", fontsize=6)\n",
    "\n",
    "plots = pathlib.Path(\"plots\")\n",
    "\n",
    "plots.mkdir(parents=True, exist_ok=True)"
   ]
  },
  {
   "cell_type": "code",
   "execution_count": null,
   "id": "1dd167cb-70e4-406d-8db7-90866f431b44",
   "metadata": {},
   "outputs": [],
   "source": [
    "accelerator = \"gpu\"\n",
    "devices = 1"
   ]
  },
  {
   "cell_type": "code",
   "execution_count": null,
   "id": "7a2315fa-f997-48ed-bfb2-3b32689b5f1c",
   "metadata": {},
   "outputs": [],
   "source": [
    "torch.autograd.set_grad_enabled(False)"
   ]
  },
  {
   "cell_type": "code",
   "execution_count": null,
   "id": "d7f539b4-e72c-4782-8df2-4427dd8f965e",
   "metadata": {},
   "outputs": [],
   "source": [
    "url = \"http://3dvision.princeton.edu/projects/2014/3DShapeNets/ModelNet10.zip\"\n",
    "filename = pathlib.Path(\"ModelNet10.zip\")\n",
    "data_root = pathlib.Path(\"data\")"
   ]
  },
  {
   "cell_type": "code",
   "execution_count": null,
   "id": "09e7927a",
   "metadata": {
    "collapsed": false,
    "jupyter": {
     "outputs_hidden": false
    }
   },
   "outputs": [],
   "source": [
    "# download_and_extract_archive(url=url, download_root=str(data_root), extract_root=str(data_root), filename=str(filename))"
   ]
  },
  {
   "cell_type": "code",
   "execution_count": null,
   "id": "18335b85",
   "metadata": {
    "collapsed": false,
    "jupyter": {
     "outputs_hidden": false
    }
   },
   "outputs": [],
   "source": [
    "samples_per_mesh = 2048"
   ]
  },
  {
   "cell_type": "code",
   "execution_count": null,
   "id": "ace3e642",
   "metadata": {
    "collapsed": false,
    "jupyter": {
     "outputs_hidden": false
    }
   },
   "outputs": [],
   "source": [
    "train_data = MeshDataset(root=data_root / \"ModelNet10\", split=\"train\", shapes=[\"chair\"], samples=samples_per_mesh)\n",
    "n_train = int(0.8 * len(train_data))\n",
    "n_val = len(train_data) - n_train\n",
    "\n",
    "# train_data, val_data = random_split(train_data, [n_train, n_val])\n",
    "\n",
    "test_data = MeshDataset(root=data_root / \"ModelNet10\", split=\"test\", shapes=[\"chair\"], samples=samples_per_mesh)"
   ]
  },
  {
   "cell_type": "code",
   "execution_count": null,
   "id": "f2dc60ad-128b-458e-94b9-e8bff890c38e",
   "metadata": {},
   "outputs": [],
   "source": [
    "# normalize within shape, based on train data\n",
    "# train_chair = train_data[0].unsqueeze(0)\n",
    "# val_chair = train_data[1].unsqueeze(0)\n",
    "\n",
    "# mean = torch.mean(train_chair, dim=1)\n",
    "# std = torch.std(train_chair, dim=1)\n",
    "\n",
    "# train_chair = (train_chair - mean) / std\n",
    "# val_chair = (val_chair - mean) / std\n",
    "\n",
    "# train_data = SingleTensorDataset(train_chair)\n",
    "# val_data = SingleTensorDataset(val_chair)\n",
    "\n",
    "# len(train_data), len(val_data), len(test_data)"
   ]
  },
  {
   "cell_type": "code",
   "execution_count": null,
   "id": "aaa1eecd",
   "metadata": {
    "collapsed": false,
    "jupyter": {
     "outputs_hidden": false
    }
   },
   "outputs": [],
   "source": [
    "fig = plt.figure()\n",
    "ax = fig.add_subplot(projection=\"3d\")\n",
    "points = train_data[0]\n",
    "ax.scatter(points[:, 0], points[:, 1], points[:, 2], s=1, color=\"black\", alpha=0.5)\n",
    "# ax.set_axis_off()"
   ]
  },
  {
   "cell_type": "code",
   "execution_count": null,
   "id": "1f39dc34",
   "metadata": {
    "collapsed": false,
    "jupyter": {
     "outputs_hidden": false
    }
   },
   "outputs": [],
   "source": [
    "hparams = dict(\n",
    "    input_dim=3,\n",
    "    input_points=samples_per_mesh,\n",
    "    condition_dim=64,\n",
    "    batch_size=1,\n",
    "    sample_size=1,  # TODO\n",
    "    optimizer=\"adam\",\n",
    "    learning_rate=1e-3,\n",
    "    weight_decay=1e-5,\n",
    "    encoder_widths=[64, 128, 256],\n",
    "    rectifier_widths=[128, 128, 128],\n",
    "    activation=\"selu\",\n",
    "    integrator=\"rk45\",\n",
    "    beta=0.5,\n",
    ")"
   ]
  },
  {
   "cell_type": "code",
   "execution_count": null,
   "id": "02532440",
   "metadata": {
    "collapsed": false,
    "jupyter": {
     "outputs_hidden": false
    }
   },
   "outputs": [],
   "source": [
    "model = PointCloudsModule(train_data, val_data, test_data, **hparams)"
   ]
  },
  {
   "cell_type": "code",
   "execution_count": null,
   "id": "99e8e9d8",
   "metadata": {
    "collapsed": false,
    "jupyter": {
     "outputs_hidden": false
    }
   },
   "outputs": [],
   "source": [
    "trainer = lightning.Trainer(\n",
    "    accelerator=accelerator,\n",
    "    devices=devices,\n",
    "    benchmark=True,\n",
    "    max_epochs=1000,\n",
    ")\n",
    "\n",
    "with torch.autograd.enable_grad():\n",
    "    model.train()\n",
    "    trainer.fit(model)\n",
    "\n",
    "model.eval()\n",
    "\n",
    "# best_model = model.load_from_checkpoint(trainer.checkpoint_callback.best_model_path)\n",
    "# best_model.eval()\n",
    "\n",
    "# model = best_model"
   ]
  },
  {
   "cell_type": "code",
   "execution_count": null,
   "id": "3de30645",
   "metadata": {
    "collapsed": false,
    "jupyter": {
     "outputs_hidden": false
    }
   },
   "outputs": [],
   "source": [
    "samples = model.sample(n_shapes=9, n_points=1024, steps=100)\n",
    "\n",
    "cols = int(np.sqrt(samples.shape[0]))\n",
    "rows = int(np.ceil(samples.shape[0] / cols))\n",
    "\n",
    "fig = plt.figure(figsize=plt.figaspect(cols / rows))\n",
    "\n",
    "for i, points in enumerate(samples):\n",
    "    ax = fig.add_subplot(rows, cols, i + 1, projection=\"3d\")\n",
    "    ax.scatter(points[:, 0], points[:, 1], points[:, 2], s=1, color=\"black\", alpha=0.5, lw=0)\n"
   ]
  },
  {
   "cell_type": "code",
   "execution_count": null,
   "id": "c6b2759c",
   "metadata": {
    "collapsed": false,
    "jupyter": {
     "outputs_hidden": false
    }
   },
   "outputs": [],
   "source": [
    "%matplotlib widget\n",
    "sample = model.sample(n_shapes=1, n_points=4096, steps=1000).squeeze()\n",
    "\n",
    "fig = plt.figure()\n",
    "ax = fig.add_subplot(projection=\"3d\")\n",
    "\n",
    "ax.scatter(sample[:, 0], sample[:, 1], sample[:, 2], s=1, color=\"black\", alpha=0.5, lw=0)\n",
    "plt.show()"
   ]
  },
  {
   "cell_type": "code",
   "execution_count": null,
   "id": "2ad4ba1b-0cec-4126-b438-4d715250891b",
   "metadata": {},
   "outputs": [],
   "source": []
  }
 ],
 "metadata": {
  "kernelspec": {
   "display_name": "Python 3 (ipykernel)",
   "language": "python",
   "name": "python3"
  },
  "language_info": {
   "codemirror_mode": {
    "name": "ipython",
    "version": 3
   },
   "file_extension": ".py",
   "mimetype": "text/x-python",
   "name": "python",
   "nbconvert_exporter": "python",
   "pygments_lexer": "ipython3",
   "version": "3.10.6"
  }
 },
 "nbformat": 4,
 "nbformat_minor": 5
}
