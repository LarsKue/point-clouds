{
 "cells": [
  {
   "cell_type": "code",
   "execution_count": null,
   "metadata": {
    "collapsed": true
   },
   "outputs": [],
   "source": [
    "import pytorch_lightning as lightning\n",
    "\n",
    "import torch\n",
    "import torch.nn as nn\n",
    "from torch.utils.data import random_split\n",
    "\n",
    "from point_clouds.models import PointCloudsModel, PointCloudsModelHParams, EncoderHParams, RectifierHParams\n",
    "from point_clouds.datasets import FurnitureDataset"
   ]
  },
  {
   "cell_type": "code",
   "execution_count": null,
   "outputs": [],
   "source": [
    "lightning.seed_everything(42)"
   ],
   "metadata": {
    "collapsed": false
   }
  },
  {
   "cell_type": "code",
   "execution_count": null,
   "outputs": [],
   "source": [
    "hparams = dict(\n",
    "    inputs=3,\n",
    "    points=2048,\n",
    "    conditions=256,\n",
    "\n",
    ")"
   ],
   "metadata": {
    "collapsed": false
   }
  },
  {
   "cell_type": "code",
   "execution_count": null,
   "outputs": [],
   "source": [
    "encoder_hparams = dict(\n",
    "    inputs=3,\n",
    "    outputs=128,\n",
    "    layer_widths=[32, 64, 128],\n",
    "    activation=\"selu\",\n",
    ")\n",
    "encoder_hparams = EncoderHParams(**encoder_hparams)"
   ],
   "metadata": {
    "collapsed": false
   }
  },
  {
   "cell_type": "code",
   "execution_count": null,
   "outputs": [],
   "source": [
    "rectifier_hparams = dict(\n",
    "    inputs=encoder_hparams.inputs + 1 + encoder_hparams.outputs,\n",
    "    outputs=encoder_hparams.inputs,\n",
    "    layer_widths=[128, 128, 128],\n",
    "    activation=\"selu\",\n",
    "    integrator=\"euler\",\n",
    ")\n",
    "rectifier_hparams = RectifierHParams(**rectifier_hparams)"
   ],
   "metadata": {
    "collapsed": false
   }
  },
  {
   "cell_type": "code",
   "execution_count": null,
   "outputs": [],
   "source": [
    "hparams = PointCloudsModelHParams(\n",
    "    inputs=3,\n",
    "    points=2048,\n",
    "    conditions=128,\n",
    "\n",
    "    encoder_hparams=encoder_hparams,\n",
    "    rectifier_hparams=rectifier_hparams,\n",
    "\n",
    "    max_epochs=1,\n",
    "    batch_size=4,\n",
    ")"
   ],
   "metadata": {
    "collapsed": false
   }
  },
  {
   "cell_type": "code",
   "execution_count": null,
   "outputs": [],
   "source": [
    "train_dataset = FurnitureDataset(\n",
    "    root=\"data/\",\n",
    "    shapes=\"all\",\n",
    "    split=\"train\",\n",
    "    sub_samples=2048,\n",
    "    samples=32768,\n",
    "    download=True,\n",
    ")\n",
    "\n",
    "train_dataset, val_dataset = random_split(train_dataset, lengths=[0.8, 0.2])"
   ],
   "metadata": {
    "collapsed": false
   }
  },
  {
   "cell_type": "code",
   "execution_count": null,
   "outputs": [],
   "source": [
    "test_dataset = FurnitureDataset(\n",
    "    root=\"data/\",\n",
    "    shapes=\"all\",\n",
    "    split=\"test\",\n",
    "    sub_samples=2048,\n",
    "    samples=32768,\n",
    "    download=False,\n",
    ")"
   ],
   "metadata": {
    "collapsed": false
   }
  },
  {
   "cell_type": "code",
   "execution_count": null,
   "outputs": [],
   "source": [
    "model = PointCloudsModel(hparams, train_data=train_dataset, val_data=val_dataset, test_data=test_dataset)"
   ],
   "metadata": {
    "collapsed": false
   }
  },
  {
   "cell_type": "code",
   "execution_count": null,
   "outputs": [],
   "source": [
    "model.fit()"
   ],
   "metadata": {
    "collapsed": false
   }
  },
  {
   "cell_type": "code",
   "execution_count": null,
   "outputs": [],
   "source": [
    "samples = model.sample((9,))\n",
    "\n",
    "plt.scatter()"
   ],
   "metadata": {
    "collapsed": false
   }
  }
 ],
 "metadata": {
  "kernelspec": {
   "display_name": "Python 3",
   "language": "python",
   "name": "python3"
  },
  "language_info": {
   "codemirror_mode": {
    "name": "ipython",
    "version": 2
   },
   "file_extension": ".py",
   "mimetype": "text/x-python",
   "name": "python",
   "nbconvert_exporter": "python",
   "pygments_lexer": "ipython2",
   "version": "2.7.6"
  }
 },
 "nbformat": 4,
 "nbformat_minor": 0
}
