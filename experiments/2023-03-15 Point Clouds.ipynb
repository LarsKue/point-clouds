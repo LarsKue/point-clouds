{
 "cells": [
  {
   "cell_type": "code",
   "execution_count": 1,
   "outputs": [],
   "source": [
    "%load_ext autoreload\n",
    "%autoreload 2"
   ],
   "metadata": {
    "collapsed": false
   }
  },
  {
   "cell_type": "code",
   "execution_count": 2,
   "metadata": {
    "collapsed": true
   },
   "outputs": [],
   "source": [
    "import lightning\n",
    "import torch\n",
    "from torch.utils.data import random_split\n",
    "import matplotlib.pyplot as plt\n",
    "\n",
    "from point_clouds import viz\n",
    "from point_clouds.datasets import FurnitureDataset\n",
    "from point_clouds.models import PointCloudsModel, PointCloudsModelHParams"
   ]
  },
  {
   "cell_type": "code",
   "execution_count": 3,
   "outputs": [
    {
     "data": {
      "text/plain": "<torch.autograd.grad_mode.set_grad_enabled at 0x7fe86051b9d0>"
     },
     "execution_count": 3,
     "metadata": {},
     "output_type": "execute_result"
    }
   ],
   "source": [
    "torch.autograd.set_grad_enabled(False)"
   ],
   "metadata": {
    "collapsed": false
   }
  },
  {
   "cell_type": "code",
   "execution_count": 4,
   "outputs": [
    {
     "name": "stderr",
     "output_type": "stream",
     "text": [
      "Global seed set to 42\n"
     ]
    },
    {
     "data": {
      "text/plain": "42"
     },
     "execution_count": 4,
     "metadata": {},
     "output_type": "execute_result"
    }
   ],
   "source": [
    "lightning.seed_everything(42)"
   ],
   "metadata": {
    "collapsed": false
   }
  },
  {
   "cell_type": "code",
   "execution_count": 5,
   "outputs": [],
   "source": [
    "plt.rc(\"figure\", dpi=200)\n",
    "plt.rc(\"legend\", fontsize=6)"
   ],
   "metadata": {
    "collapsed": false
   }
  },
  {
   "cell_type": "code",
   "execution_count": 6,
   "outputs": [],
   "source": [
    "hparams = dict(\n",
    "    inputs=3,\n",
    "    points=2048,\n",
    "    conditions=256,\n",
    "\n",
    "    max_epochs=1000,\n",
    "    batch_size=64,\n",
    ")"
   ],
   "metadata": {
    "collapsed": false
   }
  },
  {
   "cell_type": "code",
   "execution_count": 7,
   "outputs": [],
   "source": [
    "encoder_hparams=dict(\n",
    "    layers=[\n",
    "        {\"linear\": 128},\n",
    "        \"gelu\",\n",
    "        {\"linear\": 256},\n",
    "        {\"multimax\": 512},\n",
    "        \"gelu\",\n",
    "        {\"linear\": 512},\n",
    "        \"gelu\",\n",
    "        {\"linear\": 512},\n",
    "        {\"multimax\": 256},\n",
    "        \"gelu\",\n",
    "        {\"linear\": 1024},\n",
    "        \"gelu\",\n",
    "        {\"linear\": 1024},\n",
    "        {\"multimax\": 128},\n",
    "        \"gelu\",\n",
    "        {\"linear\": 1024},\n",
    "        \"gelu\",\n",
    "        {\"linear\": 1024},\n",
    "        {\"multimax\": 64},\n",
    "        \"gelu\",\n",
    "        {\"linear\": 1024},\n",
    "        \"gelu\",\n",
    "        {\"linear\": 1024},\n",
    "        {\"multimax\": 32},\n",
    "        \"gelu\",\n",
    "        {\"linear\": 1024},\n",
    "        \"gelu\",\n",
    "        {\"linear\": 2048},\n",
    "        \"gelu\",\n",
    "        \"mean\",\n",
    "        {\"linear\": 2048},\n",
    "        \"gelu\",\n",
    "        {\"linear\": 1024},\n",
    "        \"gelu\",\n",
    "        {\"linear\": 512},\n",
    "        \"gelu\",\n",
    "        {\"linear\": hparams[\"conditions\"]},\n",
    "    ]\n",
    ")"
   ],
   "metadata": {
    "collapsed": false
   }
  },
  {
   "cell_type": "code",
   "execution_count": 8,
   "outputs": [],
   "source": [
    "rectifier_hparams=dict(\n",
    "    layer_widths=[128, 256, 512, 512, 256, 128],\n",
    "    activations=\"gelu\",\n",
    "    integrator=\"euler\"\n",
    ")"
   ],
   "metadata": {
    "collapsed": false
   }
  },
  {
   "cell_type": "code",
   "execution_count": 9,
   "outputs": [],
   "source": [
    "hparams[\"encoder_hparams\"] = encoder_hparams\n",
    "hparams[\"rectifier_hparams\"] = rectifier_hparams\n",
    "hparams = PointCloudsModelHParams(**hparams)"
   ],
   "metadata": {
    "collapsed": false
   }
  },
  {
   "cell_type": "code",
   "execution_count": 10,
   "outputs": [],
   "source": [
    "train_dataset = FurnitureDataset(\n",
    "    root=\"data/\",\n",
    "    shapes=\"all\",\n",
    "    split=\"train\",\n",
    "    sub_samples=hparams.points,\n",
    "    samples=32768,\n",
    "    download=False,\n",
    ")\n",
    "\n",
    "train_dataset, val_dataset = random_split(train_dataset, lengths=[0.8, 0.2])"
   ],
   "metadata": {
    "collapsed": false
   }
  },
  {
   "cell_type": "code",
   "execution_count": 11,
   "outputs": [],
   "source": [
    "test_dataset = FurnitureDataset(\n",
    "    root=\"data/\",\n",
    "    shapes=\"all\",\n",
    "    split=\"test\",\n",
    "    sub_samples=hparams.points,\n",
    "    samples=32768,\n",
    "    download=False,\n",
    ")"
   ],
   "metadata": {
    "collapsed": false
   }
  },
  {
   "cell_type": "code",
   "execution_count": 12,
   "outputs": [
    {
     "name": "stderr",
     "output_type": "stream",
     "text": [
      "/home/lars/miniconda3/envs/rectifiers/lib/python3.10/site-packages/torch/nn/modules/lazy.py:180: UserWarning: Lazy modules are a new feature under heavy development so changes to the API or functionality can happen at any moment.\n",
      "  warnings.warn('Lazy modules are a new feature under heavy development '\n"
     ]
    }
   ],
   "source": [
    "model = PointCloudsModel(hparams, train_data=train_dataset, val_data=val_dataset, test_data=test_dataset)"
   ],
   "metadata": {
    "collapsed": false
   }
  },
  {
   "cell_type": "code",
   "execution_count": null,
   "outputs": [
    {
     "name": "stderr",
     "output_type": "stream",
     "text": [
      "GPU available: True (cuda), used: True\n",
      "TPU available: False, using: 0 TPU cores\n",
      "IPU available: False, using: 0 IPUs\n",
      "HPU available: False, using: 0 HPUs\n",
      "The following callbacks returned in `LightningModule.configure_callbacks` will override existing callbacks passed to Trainer: ModelCheckpoint\n",
      "LOCAL_RANK: 0 - CUDA_VISIBLE_DEVICES: [0]\n"
     ]
    },
    {
     "data": {
      "text/plain": "┏━━━━━━━━━━━━━━━━━━━━━━━━━━━┳━━━━━━━━━━━━━━━━━━━━━━━━━━━┓\n┃\u001B[1m \u001B[0m\u001B[1m     Validate metric     \u001B[0m\u001B[1m \u001B[0m┃\u001B[1m \u001B[0m\u001B[1m      DataLoader 0       \u001B[0m\u001B[1m \u001B[0m┃\n┡━━━━━━━━━━━━━━━━━━━━━━━━━━━╇━━━━━━━━━━━━━━━━━━━━━━━━━━━┩\n│\u001B[36m \u001B[0m\u001B[36m     validation/mse      \u001B[0m\u001B[36m \u001B[0m│\u001B[35m \u001B[0m\u001B[35m    2.002831220626831    \u001B[0m\u001B[35m \u001B[0m│\n└───────────────────────────┴───────────────────────────┘\n",
      "text/html": "<pre style=\"white-space:pre;overflow-x:auto;line-height:normal;font-family:Menlo,'DejaVu Sans Mono',consolas,'Courier New',monospace\">┏━━━━━━━━━━━━━━━━━━━━━━━━━━━┳━━━━━━━━━━━━━━━━━━━━━━━━━━━┓\n┃<span style=\"font-weight: bold\">      Validate metric      </span>┃<span style=\"font-weight: bold\">       DataLoader 0        </span>┃\n┡━━━━━━━━━━━━━━━━━━━━━━━━━━━╇━━━━━━━━━━━━━━━━━━━━━━━━━━━┩\n│<span style=\"color: #008080; text-decoration-color: #008080\">      validation/mse       </span>│<span style=\"color: #800080; text-decoration-color: #800080\">     2.002831220626831     </span>│\n└───────────────────────────┴───────────────────────────┘\n</pre>\n"
     },
     "metadata": {},
     "output_type": "display_data"
    },
    {
     "name": "stderr",
     "output_type": "stream",
     "text": [
      "The following callbacks returned in `LightningModule.configure_callbacks` will override existing callbacks passed to Trainer: EpochProgressBar, LearningRateMonitor, ModelCheckpoint\n",
      "LOCAL_RANK: 0 - CUDA_VISIBLE_DEVICES: [0]\n",
      "\n",
      "  | Name      | Type             | Params\n",
      "-----------------------------------------------\n",
      "0 | encoder   | InvariantEncoder | 16.3 M\n",
      "1 | rectifier | Rectifier        | 625 K \n",
      "-----------------------------------------------\n",
      "16.9 M    Trainable params\n",
      "0         Non-trainable params\n",
      "16.9 M    Total params\n",
      "67.703    Total estimated model params size (MB)\n",
      "Epoch 6:   1%|          | 7/1000 [01:34<3:50:59, 13.96s/it, v_num=1]"
     ]
    }
   ],
   "source": [
    "model.fit()"
   ],
   "metadata": {
    "collapsed": false,
    "pycharm": {
     "is_executing": true
    }
   }
  },
  {
   "cell_type": "code",
   "execution_count": null,
   "outputs": [],
   "source": [
    "# checkpoint = \"lightning_logs/version_1/checkpoints/last.ckpt\"\n",
    "# model = PointCloudsModel.load_from_checkpoint(checkpoint)"
   ],
   "metadata": {
    "collapsed": false,
    "pycharm": {
     "is_executing": true
    }
   }
  },
  {
   "cell_type": "code",
   "execution_count": null,
   "outputs": [],
   "source": [
    "samples = model.sample((4, 256)).cpu()\n",
    "\n",
    "fig = viz.multiscatter(samples)\n",
    "plt.show()"
   ],
   "metadata": {
    "collapsed": false,
    "pycharm": {
     "is_executing": true
    }
   }
  },
  {
   "cell_type": "code",
   "execution_count": null,
   "outputs": [],
   "source": [],
   "metadata": {
    "collapsed": false,
    "pycharm": {
     "is_executing": true
    }
   }
  }
 ],
 "metadata": {
  "kernelspec": {
   "display_name": "Python 3",
   "language": "python",
   "name": "python3"
  },
  "language_info": {
   "codemirror_mode": {
    "name": "ipython",
    "version": 2
   },
   "file_extension": ".py",
   "mimetype": "text/x-python",
   "name": "python",
   "nbconvert_exporter": "python",
   "pygments_lexer": "ipython2",
   "version": "2.7.6"
  }
 },
 "nbformat": 4,
 "nbformat_minor": 0
}
